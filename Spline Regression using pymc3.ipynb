{
 "cells": [
  {
   "cell_type": "markdown",
   "metadata": {},
   "source": [
    "# Spline Regression\n",
    "\n",
    "In the first steps, I followed the example by Christopher Krapu (https://ckrapu.github.io/2018/07/09/Spline-Regression.html)."
   ]
  },
  {
   "cell_type": "code",
   "execution_count": 55,
   "metadata": {},
   "outputs": [],
   "source": [
    "import matplotlib.pyplot as plt\n",
    "import numpy as np\n",
    "import theano\n",
    "import theano.tensor as tt\n",
    "import pymc3 as pm\n",
    "\n",
    "import pandas as pd\n",
    "%matplotlib inline"
   ]
  },
  {
   "cell_type": "code",
   "execution_count": 56,
   "metadata": {},
   "outputs": [],
   "source": [
    "theano.config.floatX = 'float64'\n",
    "theano.config.compute_test_value = 'ignore'"
   ]
  },
  {
   "cell_type": "code",
   "execution_count": 57,
   "metadata": {},
   "outputs": [],
   "source": [
    "def build_B_spline_deg_zero_degree_basis_fns(breaks, x):\n",
    "    \"\"\"Build B spline 0 order basis coefficients with knots at 'breaks'. \n",
    "    N_{i,0}(x) = { 1 if u_i <= x < u_{i+1}, 0 otherwise }\n",
    "    \"\"\"\n",
    "    expr = []\n",
    "    expr.append(tt.switch(x<breaks[1], 1, 0))\n",
    "    for i in range(1, len(breaks)-2):\n",
    "        l_break = breaks[i]\n",
    "        u_break = breaks[i+1]\n",
    "        expr.append(\n",
    "            tt.switch((x>=l_break)&(x<u_break), 1, 0) )\n",
    "    expr.append( tt.switch(x>=breaks[-2], 1, 0) )\n",
    "    return expr"
   ]
  },
  {
   "cell_type": "code",
   "execution_count": 58,
   "metadata": {},
   "outputs": [],
   "source": [
    "def build_B_spline_higher_degree_basis_fns(\n",
    "        breaks, prev_degree_coefs, degree, x):\n",
    "    \"\"\"Build the higer order B spline basis coefficients\n",
    "    N_{i,p}(x) = ((x-u_i)/(u_{i+p}-u_i))N_{i,p-1}(x) \\\n",
    "               + ((u_{i+p+1}-x)/(u_{i+p+1}-u_{i+1}))N_{i+1,p-1}(x)\n",
    "    \"\"\"\n",
    "    assert degree > 0\n",
    "    coefs = []\n",
    "    for i in range(len(prev_degree_coefs)-1):\n",
    "        alpha1 = (x-breaks[i])/(breaks[i+degree]-breaks[i]+1e-12)\n",
    "        alpha2 = (breaks[i+degree+1]-x)/(breaks[i+degree+1]-breaks[i+1]+1e-12)\n",
    "        coef = alpha1*prev_degree_coefs[i] + alpha2*prev_degree_coefs[i+1]\n",
    "        coefs.append(coef)\n",
    "    return coefs"
   ]
  },
  {
   "cell_type": "code",
   "execution_count": 59,
   "metadata": {},
   "outputs": [],
   "source": [
    "def build_B_spline_basis_fns(breaks, max_degree, x):\n",
    "    curr_basis_coefs = build_B_spline_deg_zero_degree_basis_fns(breaks, x)\n",
    "    for degree in range(1, max_degree+1):\n",
    "        curr_basis_coefs = build_B_spline_higher_degree_basis_fns(\n",
    "            breaks, curr_basis_coefs, degree, x)\n",
    "    return curr_basis_coefs"
   ]
  },
  {
   "cell_type": "code",
   "execution_count": 60,
   "metadata": {},
   "outputs": [],
   "source": [
    "def spline_fn_expr(breaks, intercepts, degree, x):\n",
    "    basis_fns = build_B_spline_basis_fns(breaks, degree, x)\n",
    "    spline = 0\n",
    "    for i, basis in enumerate(basis_fns):\n",
    "        spline += intercepts[i]*basis\n",
    "    return spline"
   ]
  },
  {
   "cell_type": "code",
   "execution_count": 61,
   "metadata": {},
   "outputs": [],
   "source": [
    "def compile_spline(data,n_bins,degree,intercepts):\n",
    "    breaks = np.histogram(data, n_bins)[1][1:-1]\n",
    "    for i in range(degree+1):\n",
    "        breaks = np.insert(breaks, 0, data.min()-1e-6)\n",
    "        breaks = np.append(breaks, data.max()+1e-6)\n",
    "    xs = tt.vector(dtype=theano.config.floatX)\n",
    "    f = theano.function([intercepts, xs],spline_fn_expr(breaks, intercepts, degree, xs))\n",
    "    return f"
   ]
  },
  {
   "cell_type": "code",
   "execution_count": 62,
   "metadata": {},
   "outputs": [],
   "source": [
    "domain = np.linspace(-4,4,100)\n",
    "n_bins = 2\n",
    "degree = 4\n",
    "coefficients = tt.vector(dtype=theano.config.floatX)\n",
    "spline = compile_spline(domain,n_bins,degree,coefficients)"
   ]
  },
  {
   "cell_type": "code",
   "execution_count": 63,
   "metadata": {},
   "outputs": [],
   "source": [
    "x = np.asarray([-3.69,  1.60, -2.05, -1.63, -3.07,\n",
    "       -1.06,  3.64, -1.61, -2.58, -3.57,\n",
    "       -1.55, -1.93, -3.94,  3.51, -0.17,\n",
    "       -3.92,  0.52,  3.06 ,  3.40, -0.21])\n",
    "true_coef = np.asarray([ 0.82, -0.34,  1.75, -0.78,  0.25,\n",
    "       -0.76,  0.59,  1.13 ,  1.32])"
   ]
  },
  {
   "cell_type": "code",
   "execution_count": 65,
   "metadata": {},
   "outputs": [
    {
     "data": {
      "text/plain": [
       "Text(0, 0.5, 'f(x)')"
      ]
     },
     "execution_count": 65,
     "metadata": {},
     "output_type": "execute_result"
    },
    {
     "data": {
      "image/png": "[encoded data removed]",
      "text/plain": [
       "<Figure size 432x288 with 1 Axes>"
      ]
     },
     "metadata": {},
     "output_type": "display_data"
    }
   ],
   "source": [
    "true_mean   = spline(true_coef,domain)\n",
    "y_noiseless = spline(true_coef,x)\n",
    "\n",
    "y_noisy = y_noiseless + np.random.randn(x.shape[0])*0.2\n",
    "\n",
    "plt.style.use('fivethirtyeight')\n",
    "plt.scatter(x,y_noisy,label = 'Noisy realizations of \\nspline-valued process',color='k')\n",
    "plt.plot(domain,true_mean,color='k',label = 'True function value')\n",
    "plt.legend(loc = 'lower left')\n",
    "plt.xlabel('x')\n",
    "plt.ylabel('f(x)')"
   ]
  },
  {
   "cell_type": "markdown",
   "metadata": {},
   "source": [
    "# Estimating spline parameters\n",
    "\n",
    "Now, I would like to use the same technique on my data in order to estimate spline parameters for creating a representative function. My data shows a linear trend first and then changes into a quadratic dependency."
   ]
  },
  {
   "cell_type": "code",
   "execution_count": 78,
   "metadata": {},
   "outputs": [
    {
     "data": {
      "text/plain": [
       "[<matplotlib.lines.Line2D at 0x7fa2e6f0e630>]"
      ]
     },
     "execution_count": 78,
     "metadata": {},
     "output_type": "execute_result"
    },
    {
     "data": {
      "image/png": "[encoded data removed]",
      "text/plain": [
       "<Figure size 432x288 with 1 Axes>"
      ]
     },
     "metadata": {},
     "output_type": "display_data"
    }
   ],
   "source": [
    "x = np.array([0.        , 0.03364583, 0.06396991, 0.26822917, 0.30600694,\n",
    "       0.30619213, 0.53136574, 0.7740625 , 0.77430556, 0.7750463 ,\n",
    "       0.77590278, 0.8390625 , 1.00467593, 1.0059375 , 1.00693287,\n",
    "       1.2787963 , 1.34362269, 1.48939815, 1.53609954, 1.74604167,\n",
    "       1.81266204, 1.97753472, 2.14038194, 2.46284722, 2.47528935,\n",
    "       2.47613426, 2.63649306, 3.01434028, 3.51010417, 3.51114583,\n",
    "       3.51288194, 3.5137037 ])\n",
    "y_noisy = np.array([-1.79115574e-01,  6.25958906e-01, -6.47491364e-01, -1.29351477e+00,\n",
    "        2.64397486e-01,  3.63929988e-01, -9.37538928e-02, -3.98027000e+00,\n",
    "       -4.06193312e+00, -4.17972094e+00, -4.84284664e+00, -4.53880276e+00,\n",
    "       -5.52900380e+00, -5.52900380e+00, -5.52900380e+00, -8.22763816e+00,\n",
    "       -8.05190714e+00, -1.06254842e+01, -6.94957746e+00, -5.19495296e+00,\n",
    "       -3.17329480e+00,  8.30268444e+00,  1.48384712e+01,  3.85102710e+01,\n",
    "        4.15606490e+01,  4.15606490e+01,  6.35088300e+01,  1.03625013e+02,\n",
    "        1.77265790e+02,  1.77265790e+02,  1.77265790e+02,  1.77265790e+02])\n",
    "\n",
    "plt.plot(x, y_noisy, 'ro')"
   ]
  },
  {
   "cell_type": "code",
   "execution_count": 79,
   "metadata": {},
   "outputs": [],
   "source": [
    "n_bins = 2\n",
    "degree = 4\n",
    "num_coef = n_bins + degree + 1 # Restraint that must be obeyed by parameter sets of B-splines\n",
    "domain   = np.linspace(x.min(),x.max(),20)"
   ]
  },
  {
   "cell_type": "code",
   "execution_count": 80,
   "metadata": {},
   "outputs": [
    {
     "name": "stdout",
     "output_type": "stream",
     "text": [
      "[1.75685185]\n"
     ]
    }
   ],
   "source": [
    "breaks = np.histogram(domain, n_bins)[1][1:-1]\n",
    "print(breaks)\n",
    "for i in range(degree+1):\n",
    "    breaks = np.insert(breaks, 0, domain.min()-1e-6)\n",
    "    breaks = np.append(breaks, domain.max()+1e-6)"
   ]
  },
  {
   "cell_type": "markdown",
   "metadata": {},
   "source": [
    "This break seems quite a good estimate, since the function is linear for smaller values and quadratic afterwards. "
   ]
  },
  {
   "cell_type": "code",
   "execution_count": 113,
   "metadata": {},
   "outputs": [],
   "source": [
    "with pm.Model() as model:   \n",
    "    coef = pm.Flat('coef',shape = num_coef,testval = np.zeros(num_coef))\n",
    "    x_as_tensor = tt.as_tensor(x)\n",
    "    s = spline_fn_expr(breaks, coef, degree, x_as_tensor)"
   ]
  },
  {
   "cell_type": "code",
   "execution_count": 114,
   "metadata": {},
   "outputs": [
    {
     "name": "stderr",
     "output_type": "stream",
     "text": [
      "Auto-assigning NUTS sampler...\n",
      "Initializing NUTS using jitter+adapt_diag...\n",
      "Multiprocess sampling (2 chains in 4 jobs)\n",
      "NUTS: [sigma, coef]\n",
      "Sampling 2 chains: 100%|██████████| 5200/5200 [01:13<00:00, 70.29draws/s] \n",
      "The chain reached the maximum tree depth. Increase max_treedepth, increase target_accept or reparameterize.\n",
      "The chain reached the maximum tree depth. Increase max_treedepth, increase target_accept or reparameterize.\n",
      "The gelman-rubin statistic is larger than 1.05 for some parameters. This indicates slight problems during sampling.\n",
      "The estimated number of effective samples is smaller than 200 for some parameters.\n"
     ]
    }
   ],
   "source": [
    "SAMPLES = 2000\n",
    "BURN = 600 \n",
    "\n",
    "with model:\n",
    "    sigma  = pm.HalfCauchy('sigma',beta=2.0)\n",
    "    y_hat  = pm.Deterministic('y_hat',s)\n",
    "    y      = pm.Normal('y',mu = y_hat,sd = sigma,observed = y_noisy)\n",
    "    #step = pm.Metropolis()\n",
    "    trace  = pm.sample(SAMPLES, chains=2, tune=BURN)"
   ]
  },
  {
   "cell_type": "markdown",
   "metadata": {},
   "source": [
    "Apparently, the sampling process faced some problems. I already tried to use a greater sample size, but I didn't change much in the outcoming fit."
   ]
  },
  {
   "cell_type": "code",
   "execution_count": 111,
   "metadata": {},
   "outputs": [
    {
     "data": {
      "text/plain": [
       "array([-2.17213140e+00,  7.46408966e+00, -2.54286865e+01, -1.72642752e+01,\n",
       "        1.06338317e+02,  1.76751366e+02, -2.55739008e+99])"
      ]
     },
     "execution_count": 111,
     "metadata": {},
     "output_type": "execute_result"
    }
   ],
   "source": [
    "T = len(domain)\n",
    "n_samples = 500\n",
    "function_samples= np.zeros([T,n_samples])\n",
    "for i in range(n_samples):\n",
    "    coef_sample = trace['coef'][i,:]\n",
    "    function_samples[:,i] = spline(coef_sample[:],domain)\n",
    "    \n",
    "ci = np.percentile(function_samples,[95,50,5],axis = 1)\n",
    "#ci = np.percentile(function_samples,[65,45,5],axis = 1)\n",
    "trace['coef'][i,:]"
   ]
  },
  {
   "cell_type": "code",
   "execution_count": 112,
   "metadata": {},
   "outputs": [
    {
     "data": {
      "text/plain": [
       "[<matplotlib.lines.Line2D at 0x7fa2e686cf28>]"
      ]
     },
     "execution_count": 112,
     "metadata": {},
     "output_type": "execute_result"
    },
    {
     "data": {
      "image/png": "[encoded data removed]",
      "text/plain": [
       "<Figure size 432x288 with 1 Axes>"
      ]
     },
     "metadata": {},
     "output_type": "display_data"
    }
   ],
   "source": [
    "plt.fill_between(domain,ci[0],ci[2],color='0.5',alpha = 0.5,label = '90% CI')\n",
    "plt.scatter(x,y_noisy,label = 'Noisy realizations of \\nspline-valued process',color='k')\n",
    "plt.plot(domain, ci[1],color='k',label = 'True function value')\n",
    "#plt.legend(loc = 'upper left')\n",
    "#plt.xlabel('x')\n",
    "#plt.ylabel('f(x)')"
   ]
  },
  {
   "cell_type": "code",
   "execution_count": null,
   "metadata": {},
   "outputs": [],
   "source": []
  }
 ],
 "metadata": {
  "kernelspec": {
   "display_name": "Python 3",
   "language": "python",
   "name": "python3"
  },
  "language_info": {
   "codemirror_mode": {
    "name": "ipython",
    "version": 3
   },
   "file_extension": ".py",
   "mimetype": "text/x-python",
   "name": "python",
   "nbconvert_exporter": "python",
   "pygments_lexer": "ipython3",
   "version": "3.7.3"
  }
 },
 "nbformat": 4,
 "nbformat_minor": 2
}
